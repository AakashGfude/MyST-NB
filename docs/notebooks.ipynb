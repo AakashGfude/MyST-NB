{
 "cells": [
  {
   "cell_type": "markdown",
   "metadata": {},
   "source": [
    "# An example Jupyter Notebook\n",
    "\n",
    "This notebook is a demonstration of directly-parsing Jupyter Notebooks into\n",
    "Sphinx using the MyST parser.\n",
    "\n",
    "```{warning}\n",
    "This is currently an **alpha feature** that may behave in unexpected ways,\n",
    "or change in the near future.\n",
    "```\n",
    "\n",
    "## Markdown\n",
    "\n",
    "As you can see, markdown is parsed as expected. Embedding images should work as expected.\n",
    "For example, here's the MyST-nb logo:\n",
    "\n",
    "![](_static/logo.png)\n",
    "\n",
    "because MyST-NB is using the MyST-markdown parser, you can include rich markdown with Sphinx\n",
    "in your notebook. For example, here's a note block:\n",
    "\n",
    "`````{note}\n",
    "Wow, a note! It was generated with this code:\n",
    "\n",
    "````\n",
    "```{note}\n",
    "Wow, a note!\n",
    "```\n",
    "````\n",
    "`````\n",
    "\n",
    "## Code cells and outputs\n",
    "\n",
    "You can run cells, and the cell outputs will be captured and inserted into\n",
    "the resulting Sphinx site.\n",
    "\n",
    "### `__repr__` and HTML outputs\n",
    "\n",
    "For example, here's some simple Python:"
   ]
  },
  {
   "cell_type": "code",
   "execution_count": 1,
   "metadata": {},
   "outputs": [
    {
     "data": {
      "text/plain": [
       "array([[80.23532179, 87.27260381, 96.4776284 , 14.26794498, 70.16829668,\n",
       "         1.48932368, 44.19342319, 96.63293351, 54.61608829, 94.97342882],\n",
       "       [29.66985198, 32.3294961 , 29.63967086, 62.48508577, 16.23224713,\n",
       "        29.46640985, 67.46391562,  2.38976349, 57.25629104, 71.41302965],\n",
       "       [89.51706418, 25.7969156 , 17.51159923, 24.48335715,  5.69954782,\n",
       "        20.32532507, 44.43522364, 41.33983534, 36.86427224, 72.35769486]])"
      ]
     },
     "execution_count": 1,
     "metadata": {},
     "output_type": "execute_result"
    }
   ],
   "source": [
    "import matplotlib.pyplot as plt\n",
    "import numpy as np\n",
    "data = np.random.rand(3, 100) * 100\n",
    "data[:, :10]"
   ]
  },
  {
   "cell_type": "markdown",
   "metadata": {},
   "source": [
    "This will also work with HTML outputs"
   ]
  },
  {
   "cell_type": "code",
   "execution_count": 2,
   "metadata": {},
   "outputs": [
    {
     "data": {
      "text/html": [
       "<div>\n",
       "<style scoped>\n",
       "    .dataframe tbody tr th:only-of-type {\n",
       "        vertical-align: middle;\n",
       "    }\n",
       "\n",
       "    .dataframe tbody tr th {\n",
       "        vertical-align: top;\n",
       "    }\n",
       "\n",
       "    .dataframe thead th {\n",
       "        text-align: right;\n",
       "    }\n",
       "</style>\n",
       "<table border=\"1\" class=\"dataframe\">\n",
       "  <thead>\n",
       "    <tr style=\"text-align: right;\">\n",
       "      <th></th>\n",
       "      <th>a</th>\n",
       "      <th>b</th>\n",
       "      <th>c</th>\n",
       "    </tr>\n",
       "  </thead>\n",
       "  <tbody>\n",
       "    <tr>\n",
       "      <th>0</th>\n",
       "      <td>80.235322</td>\n",
       "      <td>29.669852</td>\n",
       "      <td>89.517064</td>\n",
       "    </tr>\n",
       "    <tr>\n",
       "      <th>1</th>\n",
       "      <td>87.272604</td>\n",
       "      <td>32.329496</td>\n",
       "      <td>25.796916</td>\n",
       "    </tr>\n",
       "    <tr>\n",
       "      <th>2</th>\n",
       "      <td>96.477628</td>\n",
       "      <td>29.639671</td>\n",
       "      <td>17.511599</td>\n",
       "    </tr>\n",
       "    <tr>\n",
       "      <th>3</th>\n",
       "      <td>14.267945</td>\n",
       "      <td>62.485086</td>\n",
       "      <td>24.483357</td>\n",
       "    </tr>\n",
       "    <tr>\n",
       "      <th>4</th>\n",
       "      <td>70.168297</td>\n",
       "      <td>16.232247</td>\n",
       "      <td>5.699548</td>\n",
       "    </tr>\n",
       "  </tbody>\n",
       "</table>\n",
       "</div>"
      ],
      "text/plain": [
       "           a          b          c\n",
       "0  80.235322  29.669852  89.517064\n",
       "1  87.272604  32.329496  25.796916\n",
       "2  96.477628  29.639671  17.511599\n",
       "3  14.267945  62.485086  24.483357\n",
       "4  70.168297  16.232247   5.699548"
      ]
     },
     "execution_count": 2,
     "metadata": {},
     "output_type": "execute_result"
    }
   ],
   "source": [
    "import pandas as pd\n",
    "df = pd.DataFrame(data.T, columns=['a', 'b', 'c'])\n",
    "df.head()"
   ]
  },
  {
   "cell_type": "markdown",
   "metadata": {},
   "source": [
    "This works for error messages as well:"
   ]
  },
  {
   "cell_type": "code",
   "execution_count": 8,
   "metadata": {},
   "outputs": [
    {
     "name": "stdout",
     "output_type": "stream",
     "text": [
      "This will be properly printed...\n"
     ]
    },
    {
     "ename": "NameError",
     "evalue": "name 'thiswont' is not defined",
     "output_type": "error",
     "traceback": [
      "\u001b[0;31m---------------------------------------------------------------------------\u001b[0m",
      "\u001b[0;31mNameError\u001b[0m                                 Traceback (most recent call last)",
      "\u001b[0;32m<ipython-input-8-8f5b3a77886c>\u001b[0m in \u001b[0;36m<module>\u001b[0;34m()\u001b[0m\n\u001b[1;32m      1\u001b[0m \u001b[0mprint\u001b[0m\u001b[0;34m(\u001b[0m\u001b[0;34m\"This will be properly printed...\"\u001b[0m\u001b[0;34m)\u001b[0m\u001b[0;34m\u001b[0m\u001b[0;34m\u001b[0m\u001b[0m\n\u001b[0;32m----> 2\u001b[0;31m \u001b[0mprint\u001b[0m\u001b[0;34m(\u001b[0m\u001b[0mthiswont\u001b[0m\u001b[0;34m)\u001b[0m\u001b[0;34m\u001b[0m\u001b[0;34m\u001b[0m\u001b[0m\n\u001b[0m",
      "\u001b[0;31mNameError\u001b[0m: name 'thiswont' is not defined"
     ]
    }
   ],
   "source": [
    "print(\"This will be properly printed...\")\n",
    "print(thiswont)"
   ]
  },
  {
   "cell_type": "markdown",
   "metadata": {},
   "source": [
    "### Images\n",
    "\n",
    "Images that are generated from your code (e.g., with Matplotlib) will also\n",
    "be embedded."
   ]
  },
  {
   "cell_type": "code",
   "execution_count": 4,
   "metadata": {},
   "outputs": [
    {
     "data": {
      "text/plain": [
       "<matplotlib.collections.PathCollection at 0x7f595cc2d470>"
      ]
     },
     "execution_count": 4,
     "metadata": {},
     "output_type": "execute_result"
    },
    {
     "data": {
      "image/png": "[encoded data removed]",
      "text/plain": [
       "<Figure size 432x288 with 1 Axes>"
      ]
     },
     "metadata": {
      "needs_background": "light"
     },
     "output_type": "display_data"
    }
   ],
   "source": [
    "fig, ax = plt.subplots()\n",
    "ax.scatter(*data, c=data[2])"
   ]
  },
  {
   "cell_type": "markdown",
   "metadata": {},
   "source": [
    "### Interactive outputs\n",
    "\n",
    "Interactive outputs will work under the assumption that the outputs they produce have\n",
    "self-contained HTML that works without requiring any external dependencies to load.\n",
    "For example, the `Altair` \"html\" output works well:"
   ]
  },
  {
   "cell_type": "code",
   "execution_count": 5,
   "metadata": {},
   "outputs": [
    {
     "data": {
      "text/html": [
       "\n",
       "<div id=\"altair-viz-1a17eb652a42436d80c0e107393cc43f\"></div>\n",
       "<script type=\"text/javascript\">\n",
       "  (function(spec, embedOpt){\n",
       "    const outputDiv = document.getElementById(\"altair-viz-1a17eb652a42436d80c0e107393cc43f\");\n",
       "    const paths = {\n",
       "      \"vega\": \"https://cdn.jsdelivr.net/npm//vega@5?noext\",\n",
       "      \"vega-lib\": \"https://cdn.jsdelivr.net/npm//vega-lib?noext\",\n",
       "      \"vega-lite\": \"https://cdn.jsdelivr.net/npm//vega-lite@4.0.2?noext\",\n",
       "      \"vega-embed\": \"https://cdn.jsdelivr.net/npm//vega-embed@6?noext\",\n",
       "    };\n",
       "\n",
       "    function loadScript(lib) {\n",
       "      return new Promise(function(resolve, reject) {\n",
       "        var s = document.createElement('script');\n",
       "        s.src = paths[lib];\n",
       "        s.async = true;\n",
       "        s.onload = () => resolve(paths[lib]);\n",
       "        s.onerror = () => reject(`Error loading script: ${paths[lib]}`);\n",
       "        document.getElementsByTagName(\"head\")[0].appendChild(s);\n",
       "      });\n",
       "    }\n",
       "\n",
       "    function showError(err) {\n",
       "      outputDiv.innerHTML = `<div class=\"error\" style=\"color:red;\">${err}</div>`;\n",
       "      throw err;\n",
       "    }\n",
       "\n",
       "    function displayChart(vegaEmbed) {\n",
       "      vegaEmbed(outputDiv, spec, embedOpt)\n",
       "        .catch(err => showError(`Javascript Error: ${err.message}<br>This usually means there's a typo in your chart specification. See the javascript console for the full traceback.`));\n",
       "    }\n",
       "\n",
       "    if(typeof define === \"function\" && define.amd) {\n",
       "      requirejs.config({paths});\n",
       "      require([\"vega-embed\"], displayChart, err => showError(`Error loading script: ${err.message}`));\n",
       "    } else if (typeof vegaEmbed === \"function\") {\n",
       "      displayChart(vegaEmbed);\n",
       "    } else {\n",
       "      loadScript(\"vega\")\n",
       "        .then(() => loadScript(\"vega-lite\"))\n",
       "        .then(() => loadScript(\"vega-embed\"))\n",
       "        .catch(showError)\n",
       "        .then(() => displayChart(vegaEmbed));\n",
       "    }\n",
       "  })({\"config\": {\"view\": {\"continuousWidth\": 400, \"continuousHeight\": 300}}, \"data\": {\"name\": \"data-c650882f50a1b0341d5134eaa078537f\"}, \"mark\": \"point\", \"encoding\": {\"color\": {\"type\": \"quantitative\", \"field\": \"c\"}, \"size\": {\"type\": \"quantitative\", \"field\": \"c\"}, \"x\": {\"type\": \"quantitative\", \"field\": \"a\"}, \"y\": {\"type\": \"quantitative\", \"field\": \"b\"}}, \"$schema\": \"https://vega.github.io/schema/vega-lite/v4.0.2.json\", \"datasets\": {\"data-c650882f50a1b0341d5134eaa078537f\": [{\"a\": 80.23532178601498, \"b\": 29.669851981632146, \"c\": 89.51706418223692}, {\"a\": 87.27260381335472, \"b\": 32.32949609931469, \"c\": 25.79691560223447}, {\"a\": 96.47762840174667, \"b\": 29.63967086069178, \"c\": 17.511599227568308}, {\"a\": 14.267944984298452, \"b\": 62.48508577104921, \"c\": 24.483357149932615}, {\"a\": 70.16829668325968, \"b\": 16.232247132669375, \"c\": 5.699547820336193}, {\"a\": 1.4893236765498141, \"b\": 29.466409853094323, \"c\": 20.325325065804613}, {\"a\": 44.193423187457526, \"b\": 67.46391562014158, \"c\": 44.43522363548076}, {\"a\": 96.63293350993091, \"b\": 2.389763491108121, \"c\": 41.33983533953671}, {\"a\": 54.61608829241283, \"b\": 57.25629104334554, \"c\": 36.86427223786436}, {\"a\": 94.9734288172537, \"b\": 71.41302964772572, \"c\": 72.35769485837595}, {\"a\": 18.315025396974704, \"b\": 59.06847016986539, \"c\": 76.16866943876457}, {\"a\": 68.14911958256016, \"b\": 44.89704466349933, \"c\": 26.10946565827752}, {\"a\": 62.91484489835584, \"b\": 19.60722699617996, \"c\": 51.77255356549364}, {\"a\": 89.68541260030096, \"b\": 28.32248437231423, \"c\": 64.4602352135928}, {\"a\": 5.086739104553672, \"b\": 90.67807579692419, \"c\": 0.8814519754775207}, {\"a\": 33.29210495856286, \"b\": 12.61764680813674, \"c\": 70.0967911868051}, {\"a\": 85.8221366273487, \"b\": 64.10189238381501, \"c\": 93.11122641692103}, {\"a\": 96.85858156782389, \"b\": 62.4375034744696, \"c\": 84.59350258039076}, {\"a\": 34.158234705165356, \"b\": 10.374806653959523, \"c\": 82.15564460633117}, {\"a\": 11.401649189948937, \"b\": 38.97857079184246, \"c\": 71.89740960597834}, {\"a\": 87.26570697084448, \"b\": 30.462716374681055, \"c\": 71.17791519306999}, {\"a\": 27.722000580683147, \"b\": 21.35528607582742, \"c\": 65.34656191318894}, {\"a\": 61.105450337581225, \"b\": 5.5851231106813675, \"c\": 49.77692007625708}, {\"a\": 80.96330312451785, \"b\": 50.471537483856785, \"c\": 27.53393402603509}, {\"a\": 18.449796081267134, \"b\": 32.931722003739935, \"c\": 82.07752877528819}, {\"a\": 96.09042027505761, \"b\": 12.236822590371588, \"c\": 98.05023998731023}, {\"a\": 20.721382782973663, \"b\": 50.74963359418222, \"c\": 36.4382098436407}, {\"a\": 89.95727451524415, \"b\": 18.27099330220756, \"c\": 73.64275453817717}, {\"a\": 91.58518032816947, \"b\": 46.20065409566796, \"c\": 7.72721161047577}, {\"a\": 67.05453735265493, \"b\": 59.363464022678656, \"c\": 99.80781841005762}, {\"a\": 31.3746165645443, \"b\": 65.28705322848832, \"c\": 69.05413116982425}, {\"a\": 56.405160932732514, \"b\": 15.697065577325409, \"c\": 64.69589619903871}, {\"a\": 59.60643240482884, \"b\": 98.19189766421724, \"c\": 10.251897883276317}, {\"a\": 60.26804405612006, \"b\": 16.89421177068091, \"c\": 29.947805705818265}, {\"a\": 98.16944946188094, \"b\": 3.4969265781766956, \"c\": 0.7002620196116971}, {\"a\": 26.21100492176016, \"b\": 46.24109114268625, \"c\": 25.6577597397458}, {\"a\": 50.03815851818371, \"b\": 5.067641343545038, \"c\": 18.129824210358723}, {\"a\": 77.524579439829, \"b\": 43.308426780024924, \"c\": 25.57822142531666}, {\"a\": 98.13042277797325, \"b\": 2.5368903087173655, \"c\": 50.720329740593805}, {\"a\": 49.6742716297281, \"b\": 71.65900847753329, \"c\": 66.57477417173817}, {\"a\": 3.522906933877268, \"b\": 15.180488279161452, \"c\": 24.64067210772486}, {\"a\": 7.725912804210832, \"b\": 49.43081409431518, \"c\": 23.90291812030728}, {\"a\": 31.18475519589997, \"b\": 68.99790633397868, \"c\": 34.99739211595313}, {\"a\": 11.754947082958001, \"b\": 12.891152411281215, \"c\": 59.26989645614598}, {\"a\": 56.30757268085921, \"b\": 84.8591186003063, \"c\": 49.5071515234229}, {\"a\": 61.51949115380161, \"b\": 76.19046461504134, \"c\": 66.16013556139713}, {\"a\": 11.566316923752595, \"b\": 79.43675568808145, \"c\": 66.26301383813804}, {\"a\": 91.10558792195485, \"b\": 4.152236955354704, \"c\": 12.990696184181083}, {\"a\": 45.571742105109166, \"b\": 16.65516770512998, \"c\": 20.758128009641787}, {\"a\": 21.45087605275291, \"b\": 49.002549252383645, \"c\": 17.35711568280439}, {\"a\": 99.50246079480438, \"b\": 58.00834375129076, \"c\": 76.68218210369874}, {\"a\": 98.4544719922341, \"b\": 92.15477838193077, \"c\": 90.70694068554961}, {\"a\": 18.6361802398885, \"b\": 27.615344532052866, \"c\": 57.36207409139739}, {\"a\": 67.84331632703064, \"b\": 52.66714563507253, \"c\": 59.96880562174008}, {\"a\": 59.84453844371955, \"b\": 71.8023526604252, \"c\": 78.80307804444435}, {\"a\": 67.44570325629292, \"b\": 90.52853870728063, \"c\": 10.785540272098771}, {\"a\": 50.61704546860229, \"b\": 2.335437433627763, \"c\": 18.01621180055256}, {\"a\": 51.30990918026218, \"b\": 17.823103692033726, \"c\": 50.82191833532562}, {\"a\": 84.14998696940827, \"b\": 7.174173246218407, \"c\": 23.203746801674562}, {\"a\": 43.990600414935535, \"b\": 49.87444455115767, \"c\": 99.1616773567218}, {\"a\": 95.37437420392754, \"b\": 6.097217680005418, \"c\": 56.1783588357798}, {\"a\": 31.88678528664012, \"b\": 39.55142190077054, \"c\": 45.747823225131754}, {\"a\": 69.20230565666994, \"b\": 91.7672814375437, \"c\": 59.8096549459065}, {\"a\": 19.07584766275574, \"b\": 0.4339727918197478, \"c\": 64.7181963891629}, {\"a\": 32.15015936850762, \"b\": 16.976975552437946, \"c\": 1.5186733205968528}, {\"a\": 57.44675678104289, \"b\": 42.99332533531142, \"c\": 9.505362623084778}, {\"a\": 47.76521656991437, \"b\": 94.16868028079755, \"c\": 45.03662749650258}, {\"a\": 89.34251525666512, \"b\": 41.76415068882838, \"c\": 86.31976059553685}, {\"a\": 24.9020436778992, \"b\": 48.47717991239527, \"c\": 12.269832083886378}, {\"a\": 54.14839984564459, \"b\": 93.0540356444335, \"c\": 51.72917420985759}, {\"a\": 18.815105392498555, \"b\": 74.81026963652432, \"c\": 67.99901276453603}, {\"a\": 97.59824559935637, \"b\": 45.60585495487821, \"c\": 73.922646764434}, {\"a\": 2.2979818943318353, \"b\": 45.20686038589107, \"c\": 46.86696505614888}, {\"a\": 29.803627535818244, \"b\": 55.50534729590784, \"c\": 91.99727250437876}, {\"a\": 76.59149777564458, \"b\": 4.9675300231825865, \"c\": 5.3146794313244765}, {\"a\": 14.565823679499523, \"b\": 37.86408332575131, \"c\": 87.50331183756855}, {\"a\": 70.4014860270499, \"b\": 29.852543844588, \"c\": 92.21751774444249}, {\"a\": 70.44307830302968, \"b\": 1.0361371777085848, \"c\": 70.51062659043966}, {\"a\": 36.82829170746093, \"b\": 84.43379120534506, \"c\": 83.79262610262485}, {\"a\": 74.03228854577114, \"b\": 76.37333116193902, \"c\": 88.31312698078916}, {\"a\": 3.003136328266398, \"b\": 31.20103437357824, \"c\": 83.20117441398303}, {\"a\": 24.24671273297614, \"b\": 12.116714048559352, \"c\": 20.151001223331434}, {\"a\": 25.271797750371793, \"b\": 32.270604121860394, \"c\": 37.334886103330156}, {\"a\": 75.24327416239744, \"b\": 1.2160189425602153, \"c\": 5.876320176315531}, {\"a\": 32.451043695511515, \"b\": 36.69485563378729, \"c\": 54.20337397335986}, {\"a\": 34.7718042305321, \"b\": 93.50274218297278, \"c\": 82.62303285958357}, {\"a\": 24.43290798935225, \"b\": 36.30570220272132, \"c\": 17.996325074153464}, {\"a\": 16.942170340975093, \"b\": 96.68695871777958, \"c\": 48.844035845365696}, {\"a\": 69.4353618778439, \"b\": 46.71840751226861, \"c\": 77.4950239033244}, {\"a\": 62.94272859638431, \"b\": 19.741293668749048, \"c\": 98.98750497962816}, {\"a\": 31.269951959414055, \"b\": 2.6127666264167293, \"c\": 15.394551132757217}, {\"a\": 52.52470517071277, \"b\": 42.54252846832376, \"c\": 80.50599229110398}, {\"a\": 27.873385292489406, \"b\": 30.36861668466355, \"c\": 91.28764452751528}, {\"a\": 76.13193787684894, \"b\": 0.7828783813454199, \"c\": 5.7515497253162735}, {\"a\": 89.79159453018126, \"b\": 3.4089356145883154, \"c\": 23.25954125996973}, {\"a\": 87.62783146446753, \"b\": 50.49759246138, \"c\": 62.27558062660397}, {\"a\": 46.08182814690823, \"b\": 64.01949084993753, \"c\": 21.67883169885606}, {\"a\": 19.214252012432297, \"b\": 60.185815539934495, \"c\": 13.844108956432366}, {\"a\": 75.76501816677793, \"b\": 36.38081033387597, \"c\": 94.63419812924035}, {\"a\": 11.10855974831706, \"b\": 47.900972773225305, \"c\": 73.21314616673926}]}}, {\"mode\": \"vega-lite\"});\n",
       "</script>"
      ],
      "text/plain": [
       "alt.Chart(...)"
      ]
     },
     "execution_count": 5,
     "metadata": {},
     "output_type": "execute_result"
    }
   ],
   "source": [
    "import altair as alt\n",
    "alt.Chart(data=df).mark_point().encode(\n",
    "    x='a',\n",
    "    y='b',\n",
    "    color='c',\n",
    "    size='c'\n",
    ")"
   ]
  },
  {
   "cell_type": "markdown",
   "metadata": {},
   "source": [
    "### The IPywidget ecosystem\n",
    "\n",
    "You may also run code for Jupyter Widget in your document, and the interactive HTML\n",
    "outputs will embed themselves in your side.\n",
    "\n",
    "Here is an example from ipyvolume:"
   ]
  },
  {
   "cell_type": "code",
   "execution_count": 6,
   "metadata": {},
   "outputs": [
    {
     "data": {
      "application/vnd.jupyter.widget-view+json": {
       "model_id": "fa66a0b247d8424fa9804604e78db748",
       "version_major": 2,
       "version_minor": 0
      },
      "text/plain": [
       "IntSlider(value=7, continuous_update=False, description='Test:', max=10)"
      ]
     },
     "metadata": {},
     "output_type": "display_data"
    }
   ],
   "source": [
    "import ipywidgets as widgets\n",
    "widgets.IntSlider(\n",
    "    value=7,\n",
    "    min=0,\n",
    "    max=10,\n",
    "    step=1,\n",
    "    description='Test:',\n",
    "    disabled=False,\n",
    "    continuous_update=False,\n",
    "    orientation='horizontal',\n",
    "    readout=True,\n",
    "    readout_format='d'\n",
    ")"
   ]
  },
  {
   "cell_type": "code",
   "execution_count": 7,
   "metadata": {},
   "outputs": [
    {
     "data": {
      "application/vnd.jupyter.widget-view+json": {
       "model_id": "7706f23a3d5240b3b6f1095caa5abfd1",
       "version_major": 2,
       "version_minor": 0
      },
      "text/plain": [
       "Tab(children=(Text(value='', description='P0'), Text(value='', description='P1'), Text(value='', description='…"
      ]
     },
     "metadata": {},
     "output_type": "display_data"
    }
   ],
   "source": [
    "tab_contents = ['P0', 'P1', 'P2', 'P3', 'P4']\n",
    "children = [widgets.Text(description=name) for name in tab_contents]\n",
    "tab = widgets.Tab()\n",
    "tab.children = children\n",
    "tab.titles = [str(i) for i in range(len(children))]\n",
    "tab"
   ]
  },
  {
   "cell_type": "markdown",
   "metadata": {},
   "source": [
    "## Hiding cell contents"
   ]
  },
  {
   "cell_type": "markdown",
   "metadata": {},
   "source": [
    "You can use Jupyter Notebook **cell tags** to control some of the behavior of\n",
    "the rendered notebook. This uses the [**`sphinx-togglebutton`**](https://sphinx-togglebutton.readthedocs.io/en/latest/)\n",
    "package to add a little button that toggles the visibility of content.\n",
    "\n",
    "### Hiding code cells\n",
    "\n",
    "You can **cell tags** to control the content hidden with code cells.\n",
    "Add the following tags to a cell's metadata to control\n",
    "what to hide in code cells:\n",
    "\n",
    "* **`hide_input`** tag to hide the cell inputs\n",
    "* **`hide_output`** to hide the cell outputs\n",
    "* **`hide_cell`** to hide the entire cell\n",
    "\n",
    "### Hiding markdown cells\n",
    "\n",
    "There are two ways to hide markdown cells. First, **you can add the `hide_input`**\n",
    "cell metadata. This triggers the same hiding behavior described above for\n",
    "code cells."
   ]
  },
  {
   "cell_type": "markdown",
   "metadata": {
    "tags": [
     "hide_input"
    ]
   },
   "source": [
    "This cell was hidden by adding a `hide_input` tag to it!"
   ]
  },
  {
   "cell_type": "markdown",
   "metadata": {},
   "source": [
    "You may also **use a Sphinx directive** to hide specific markdown content. This\n",
    "is possible by adding the **`.toggle`** class to any block-level directive\n",
    "that will allow for classes. For example, to the `container`, `note`, or `admonition`\n",
    "directives.\n",
    "\n",
    "For example:\n",
    "\n",
    "`````{admonition} This cell was hidden with the toggle class\n",
    ":class: toggle\n",
    "\n",
    "It uses the following code:\n",
    "\n",
    "````\n",
    "```{admonition} This cell was hidden with the toggle class\n",
    ":class: toggle\n",
    "It uses the following code:\n",
    "<block-content-here>\n",
    "```\n",
    "````\n",
    "`````\n",
    "\n",
    "```{warning}\n",
    "**Don't add headings to toggle-able sections**\n",
    "\n",
    "Note that containers for markdown (like notes, or this `container`\n",
    "directive) cannot have their own headings. Use **bolded text** if\n",
    "you want to highlight sections of a toggle-able section.\n",
    "```"
   ]
  }
 ],
 "metadata": {
  "kernelspec": {
   "display_name": "Python 3",
   "language": "python",
   "name": "python3"
  },
  "language_info": {
   "codemirror_mode": {
    "name": "ipython",
    "version": 3
   },
   "file_extension": ".py",
   "mimetype": "text/x-python",
   "name": "python",
   "nbconvert_exporter": "python",
   "pygments_lexer": "ipython3",
   "version": "3.7.3"
  },
  "widgets": {
   "application/vnd.jupyter.widget-state+json": {
    "state": {},
    "version_major": 2,
    "version_minor": 0
   }
  }
 },
 "nbformat": 4,
 "nbformat_minor": 4
}
