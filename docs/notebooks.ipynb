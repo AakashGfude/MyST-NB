{
 "cells": [
  {
   "cell_type": "markdown",
   "metadata": {},
   "source": [
    "# An example Jupyter Notebook\n",
    "\n",
    "This notebook is a demonstration of directly-parsing Jupyter Notebooks into\n",
    "Sphinx using the MyST parser.\n",
    "\n",
    "```{warn}\n",
    "This is currently an **alpha feature** that may behave in unexpected ways,\n",
    "or change in the near future.\n",
    "```\n",
    "\n",
    "## Markdown\n",
    "\n",
    "As you can see, markdown is parsed as expected. Embedding images should work as expected.\n",
    "For example, here's the MyST logo:\n",
    "\n",
    "![](_static/logo.png)\n",
    "\n",
    "## Running cells\n",
    "\n",
    "You can run cells, and the cell outputs will be captured and inserted into\n",
    "the resulting Sphinx site. For example, here's some simple Python:"
   ]
  },
  {
   "cell_type": "code",
   "execution_count": 23,
   "metadata": {},
   "outputs": [
    {
     "data": {
      "text/plain": [
       "array([[35.85238892, 31.51261625, 27.30331219, 51.68745535, 72.33367438,\n",
       "         0.10877365, 93.6296751 ,  4.94502736, 19.2627326 , 63.15207065],\n",
       "       [25.26427953, 11.99138215, 57.98350439, 79.05336444, 99.12140912,\n",
       "        24.75625301, 43.82591898, 42.58382346, 61.58725246, 33.15407415],\n",
       "       [49.92291296, 94.17189862, 19.35474315, 79.96783005, 75.9230726 ,\n",
       "        43.69704506,  1.57662474, 54.85292708, 27.97165168, 27.11030721]])"
      ]
     },
     "execution_count": 23,
     "metadata": {},
     "output_type": "execute_result"
    }
   ],
   "source": [
    "import numpy as np\n",
    "data = np.random.rand(3, 100) * 100\n",
    "data[:, :10]"
   ]
  },
  {
   "cell_type": "markdown",
   "metadata": {},
   "source": [
    "This will also work with HTML outputs"
   ]
  },
  {
   "cell_type": "code",
   "execution_count": 25,
   "metadata": {},
   "outputs": [
    {
     "data": {
      "text/html": [
       "<div>\n",
       "<style scoped>\n",
       "    .dataframe tbody tr th:only-of-type {\n",
       "        vertical-align: middle;\n",
       "    }\n",
       "\n",
       "    .dataframe tbody tr th {\n",
       "        vertical-align: top;\n",
       "    }\n",
       "\n",
       "    .dataframe thead th {\n",
       "        text-align: right;\n",
       "    }\n",
       "</style>\n",
       "<table border=\"1\" class=\"dataframe\">\n",
       "  <thead>\n",
       "    <tr style=\"text-align: right;\">\n",
       "      <th></th>\n",
       "      <th>a</th>\n",
       "      <th>b</th>\n",
       "      <th>c</th>\n",
       "    </tr>\n",
       "  </thead>\n",
       "  <tbody>\n",
       "    <tr>\n",
       "      <th>0</th>\n",
       "      <td>35.852389</td>\n",
       "      <td>25.264280</td>\n",
       "      <td>49.922913</td>\n",
       "    </tr>\n",
       "    <tr>\n",
       "      <th>1</th>\n",
       "      <td>31.512616</td>\n",
       "      <td>11.991382</td>\n",
       "      <td>94.171899</td>\n",
       "    </tr>\n",
       "    <tr>\n",
       "      <th>2</th>\n",
       "      <td>27.303312</td>\n",
       "      <td>57.983504</td>\n",
       "      <td>19.354743</td>\n",
       "    </tr>\n",
       "    <tr>\n",
       "      <th>3</th>\n",
       "      <td>51.687455</td>\n",
       "      <td>79.053364</td>\n",
       "      <td>79.967830</td>\n",
       "    </tr>\n",
       "    <tr>\n",
       "      <th>4</th>\n",
       "      <td>72.333674</td>\n",
       "      <td>99.121409</td>\n",
       "      <td>75.923073</td>\n",
       "    </tr>\n",
       "  </tbody>\n",
       "</table>\n",
       "</div>"
      ],
      "text/plain": [
       "           a          b          c\n",
       "0  35.852389  25.264280  49.922913\n",
       "1  31.512616  11.991382  94.171899\n",
       "2  27.303312  57.983504  19.354743\n",
       "3  51.687455  79.053364  79.967830\n",
       "4  72.333674  99.121409  75.923073"
      ]
     },
     "execution_count": 25,
     "metadata": {},
     "output_type": "execute_result"
    }
   ],
   "source": [
    "import pandas as pd\n",
    "df = pd.DataFrame(data.T, columns=['a', 'b', 'c'])\n",
    "df.head()"
   ]
  },
  {
   "cell_type": "markdown",
   "metadata": {},
   "source": [
    "## Images\n",
    "\n",
    "Images that are generated from your code (e.g., with Matplotlib) will also\n",
    "be embedded."
   ]
  },
  {
   "cell_type": "code",
   "execution_count": 26,
   "metadata": {},
   "outputs": [
    {
     "data": {
      "text/plain": [
       "<matplotlib.collections.PathCollection at 0x7f9e69e67f60>"
      ]
     },
     "execution_count": 26,
     "metadata": {},
     "output_type": "execute_result"
    },
    {
     "data": {
      "image/png": "[encoded data removed]",
      "text/plain": [
       "<Figure size 432x288 with 1 Axes>"
      ]
     },
     "metadata": {
      "needs_background": "light"
     },
     "output_type": "display_data"
    }
   ],
   "source": [
    "import matplotlib.pyplot as plt\n",
    "fig, ax = plt.subplots()\n",
    "ax.scatter(*data, c=data[2])"
   ]
  },
  {
   "cell_type": "markdown",
   "metadata": {},
   "source": [
    "## Interactive outputs\n",
    "\n",
    "Interactive outputs will work under the assumption that the outputs they produce have\n",
    "self-contained HTML that works without requiring any external dependencies to load.\n",
    "For example, the `Altair` \"html\" output works well:"
   ]
  },
  {
   "cell_type": "code",
   "execution_count": 30,
   "metadata": {},
   "outputs": [
    {
     "data": {
      "text/html": [
       "\n",
       "<div id=\"altair-viz-3cf8ded1841148e0980ea696b32fcc63\"></div>\n",
       "<script type=\"text/javascript\">\n",
       "  (function(spec, embedOpt){\n",
       "    const outputDiv = document.getElementById(\"altair-viz-3cf8ded1841148e0980ea696b32fcc63\");\n",
       "    const paths = {\n",
       "      \"vega\": \"https://cdn.jsdelivr.net/npm//vega@5?noext\",\n",
       "      \"vega-lib\": \"https://cdn.jsdelivr.net/npm//vega-lib?noext\",\n",
       "      \"vega-lite\": \"https://cdn.jsdelivr.net/npm//vega-lite@4.0.2?noext\",\n",
       "      \"vega-embed\": \"https://cdn.jsdelivr.net/npm//vega-embed@6?noext\",\n",
       "    };\n",
       "\n",
       "    function loadScript(lib) {\n",
       "      return new Promise(function(resolve, reject) {\n",
       "        var s = document.createElement('script');\n",
       "        s.src = paths[lib];\n",
       "        s.async = true;\n",
       "        s.onload = () => resolve(paths[lib]);\n",
       "        s.onerror = () => reject(`Error loading script: ${paths[lib]}`);\n",
       "        document.getElementsByTagName(\"head\")[0].appendChild(s);\n",
       "      });\n",
       "    }\n",
       "\n",
       "    function showError(err) {\n",
       "      outputDiv.innerHTML = `<div class=\"error\" style=\"color:red;\">${err}</div>`;\n",
       "      throw err;\n",
       "    }\n",
       "\n",
       "    function displayChart(vegaEmbed) {\n",
       "      vegaEmbed(outputDiv, spec, embedOpt)\n",
       "        .catch(err => showError(`Javascript Error: ${err.message}<br>This usually means there's a typo in your chart specification. See the javascript console for the full traceback.`));\n",
       "    }\n",
       "\n",
       "    if(typeof define === \"function\" && define.amd) {\n",
       "      requirejs.config({paths});\n",
       "      require([\"vega-embed\"], displayChart, err => showError(`Error loading script: ${err.message}`));\n",
       "    } else if (typeof vegaEmbed === \"function\") {\n",
       "      displayChart(vegaEmbed);\n",
       "    } else {\n",
       "      loadScript(\"vega\")\n",
       "        .then(() => loadScript(\"vega-lite\"))\n",
       "        .then(() => loadScript(\"vega-embed\"))\n",
       "        .catch(showError)\n",
       "        .then(() => displayChart(vegaEmbed));\n",
       "    }\n",
       "  })({\"config\": {\"view\": {\"continuousWidth\": 400, \"continuousHeight\": 300}}, \"data\": {\"name\": \"data-51b1e32bbcc7f15dfe3a41b24c9e0e1b\"}, \"mark\": \"point\", \"encoding\": {\"color\": {\"type\": \"quantitative\", \"field\": \"c\"}, \"size\": {\"type\": \"quantitative\", \"field\": \"c\"}, \"x\": {\"type\": \"quantitative\", \"field\": \"a\"}, \"y\": {\"type\": \"quantitative\", \"field\": \"b\"}}, \"$schema\": \"https://vega.github.io/schema/vega-lite/v4.0.2.json\", \"datasets\": {\"data-51b1e32bbcc7f15dfe3a41b24c9e0e1b\": [{\"a\": 35.852388924850295, \"b\": 25.26427952647633, \"c\": 49.922912955067346}, {\"a\": 31.512616252513848, \"b\": 11.99138215498955, \"c\": 94.17189862480744}, {\"a\": 27.303312194039144, \"b\": 57.98350438548086, \"c\": 19.35474315397492}, {\"a\": 51.68745535182545, \"b\": 79.05336444033424, \"c\": 79.96783005361311}, {\"a\": 72.33367437741663, \"b\": 99.12140911965123, \"c\": 75.92307260032389}, {\"a\": 0.10877364768325792, \"b\": 24.756253007599284, \"c\": 43.6970450571868}, {\"a\": 93.6296750965809, \"b\": 43.82591897864915, \"c\": 1.5766247402839606}, {\"a\": 4.945027364946409, \"b\": 42.58382345614125, \"c\": 54.852927082841795}, {\"a\": 19.262732601153342, \"b\": 61.58725246271841, \"c\": 27.97165168323552}, {\"a\": 63.15207065313449, \"b\": 33.15407415016356, \"c\": 27.11030720609936}, {\"a\": 12.05858662083994, \"b\": 61.0584920144847, \"c\": 30.359511561990182}, {\"a\": 6.429060197674408, \"b\": 0.6252692780039482, \"c\": 58.51814624323028}, {\"a\": 73.31459303245794, \"b\": 74.87228658171304, \"c\": 38.28208505994928}, {\"a\": 49.89566726393463, \"b\": 43.267198022446706, \"c\": 95.62840310414393}, {\"a\": 73.02086663833242, \"b\": 54.03021609319754, \"c\": 65.24129560260498}, {\"a\": 60.40835536542113, \"b\": 68.57513620529087, \"c\": 66.43927848902769}, {\"a\": 35.00853762152172, \"b\": 46.12317335165831, \"c\": 91.37469438250587}, {\"a\": 56.19730157139684, \"b\": 75.294012056993, \"c\": 98.17720172171074}, {\"a\": 76.5076079350897, \"b\": 0.6036460118446163, \"c\": 97.92486711160407}, {\"a\": 1.5573733328155481, \"b\": 77.87104637968187, \"c\": 82.3480042050212}, {\"a\": 13.668048973835756, \"b\": 32.48767342929892, \"c\": 79.59349992838675}, {\"a\": 88.18794143353006, \"b\": 73.43601047752618, \"c\": 7.894155480816134}, {\"a\": 0.0975139893647281, \"b\": 16.243780545148667, \"c\": 97.10602608581213}, {\"a\": 74.76964396132429, \"b\": 85.28380084214734, \"c\": 44.25962081059046}, {\"a\": 27.17480574315886, \"b\": 57.98960886151494, \"c\": 96.66438282612908}, {\"a\": 41.67212989607968, \"b\": 19.66039470200852, \"c\": 16.19293439852675}, {\"a\": 95.04319147632543, \"b\": 90.96135128988982, \"c\": 46.79900772075274}, {\"a\": 60.06838542260705, \"b\": 71.39755638790278, \"c\": 19.55057743033083}, {\"a\": 83.35490952091197, \"b\": 44.473127971494755, \"c\": 86.50086527008673}, {\"a\": 4.101530597473479, \"b\": 98.90531280503917, \"c\": 93.5444994917588}, {\"a\": 15.34813396939876, \"b\": 75.06024621604067, \"c\": 60.75462521121149}, {\"a\": 12.11429195295649, \"b\": 20.67823862198689, \"c\": 30.13359849780406}, {\"a\": 33.91227366619623, \"b\": 16.170490494330924, \"c\": 84.76708583818959}, {\"a\": 95.38509392166583, \"b\": 45.512657202793136, \"c\": 3.829537407980188}, {\"a\": 61.946176077784955, \"b\": 19.554055804876967, \"c\": 8.54135813070972}, {\"a\": 57.090829495623005, \"b\": 59.787757398279474, \"c\": 63.94238081606638}, {\"a\": 29.275148672140748, \"b\": 59.82467091288582, \"c\": 76.47954645558585}, {\"a\": 76.86353405897336, \"b\": 23.417793739296567, \"c\": 33.15591756667491}, {\"a\": 41.85792834117069, \"b\": 16.026658697210827, \"c\": 79.64014231437505}, {\"a\": 9.639643045795932, \"b\": 83.08132277413691, \"c\": 17.61312269740023}, {\"a\": 38.17689822095335, \"b\": 19.54658670086292, \"c\": 59.38587021475452}, {\"a\": 1.0465152784759457, \"b\": 7.048080691445325, \"c\": 41.21292227001888}, {\"a\": 34.94469417869589, \"b\": 2.1723714885088397, \"c\": 51.84364836900386}, {\"a\": 36.164206898031296, \"b\": 4.525927207104463, \"c\": 24.96602501072972}, {\"a\": 34.203443861799784, \"b\": 85.22305725659086, \"c\": 91.90641008620656}, {\"a\": 68.23985603914099, \"b\": 10.736063241893024, \"c\": 90.26087014368441}, {\"a\": 10.074067305713985, \"b\": 84.63108949990466, \"c\": 91.08473122185885}, {\"a\": 73.9341744827382, \"b\": 25.61840371955523, \"c\": 57.87064147281541}, {\"a\": 34.72078012549796, \"b\": 65.07004853370638, \"c\": 14.794032522204647}, {\"a\": 79.82512461048194, \"b\": 2.723725460394477, \"c\": 70.43534660717327}, {\"a\": 78.11512688433112, \"b\": 13.910538221660252, \"c\": 51.649900650460815}, {\"a\": 6.785036607215189, \"b\": 31.681262351869176, \"c\": 44.07659117411916}, {\"a\": 31.043383853674122, \"b\": 86.58450047222698, \"c\": 59.503659383793206}, {\"a\": 79.07940401127962, \"b\": 94.35933799795386, \"c\": 42.67968237711494}, {\"a\": 14.710150272052703, \"b\": 92.85480272463731, \"c\": 29.050485482804834}, {\"a\": 94.22908115266246, \"b\": 39.388344441857626, \"c\": 57.86317481197888}, {\"a\": 69.41396376530838, \"b\": 87.42654975333744, \"c\": 80.81914894014363}, {\"a\": 68.31263270385351, \"b\": 66.16715834383676, \"c\": 57.01052879062235}, {\"a\": 59.33472006123775, \"b\": 9.98289130420057, \"c\": 5.92130674392739}, {\"a\": 53.74856385195932, \"b\": 3.774476678391425, \"c\": 37.65604145701268}, {\"a\": 2.339859838436087, \"b\": 21.031230943270096, \"c\": 24.650984368273544}, {\"a\": 66.59101167459076, \"b\": 43.27237574102233, \"c\": 22.438657295890717}, {\"a\": 80.46005870952837, \"b\": 52.703613452204024, \"c\": 22.504715677358444}, {\"a\": 10.206858747296288, \"b\": 21.310735208795485, \"c\": 81.41172765521723}, {\"a\": 50.039807881838406, \"b\": 63.73527837371506, \"c\": 3.6377456909199024}, {\"a\": 17.443888984716295, \"b\": 23.06521274141232, \"c\": 3.131149363715402}, {\"a\": 35.67400659641502, \"b\": 80.92611155769319, \"c\": 14.100861779756634}, {\"a\": 85.91905929221679, \"b\": 55.193276383794796, \"c\": 8.681807095520854}, {\"a\": 55.132514326423575, \"b\": 23.924810888086057, \"c\": 31.197779979056772}, {\"a\": 38.12488505523807, \"b\": 74.55116603246944, \"c\": 3.6992597756445145}, {\"a\": 46.16092194783719, \"b\": 4.900722244024502, \"c\": 95.44687994467179}, {\"a\": 11.36614646315197, \"b\": 63.159878277658606, \"c\": 20.684061891737628}, {\"a\": 33.61205292070072, \"b\": 76.4032297640186, \"c\": 60.16370380853145}, {\"a\": 86.63580951091285, \"b\": 19.617481062870958, \"c\": 27.390114503766505}, {\"a\": 5.75252846095855, \"b\": 27.248434204829596, \"c\": 19.6718777322621}, {\"a\": 37.25069619257306, \"b\": 38.70794545823364, \"c\": 8.111563828758083}, {\"a\": 40.614527787178304, \"b\": 42.07028122488386, \"c\": 2.197969832732105}, {\"a\": 98.71040960463107, \"b\": 45.10178924644484, \"c\": 82.03970269552559}, {\"a\": 69.26612394391076, \"b\": 27.84056175677757, \"c\": 51.182646727379655}, {\"a\": 46.38849260078752, \"b\": 81.01836987480688, \"c\": 84.13722895247584}, {\"a\": 21.435594926678235, \"b\": 26.8315300073508, \"c\": 93.21126767064442}, {\"a\": 43.07723298238228, \"b\": 67.37676801657435, \"c\": 10.238833517772017}, {\"a\": 58.51931668325656, \"b\": 62.36582709661624, \"c\": 87.30959670056836}, {\"a\": 64.30391675416665, \"b\": 95.97343090243247, \"c\": 14.98351101699008}, {\"a\": 78.38390430026898, \"b\": 82.50349612428612, \"c\": 99.88239320003983}, {\"a\": 96.5354630450511, \"b\": 30.482816356778606, \"c\": 72.40792124302915}, {\"a\": 16.30073320821047, \"b\": 58.286287591611, \"c\": 23.39017158514395}, {\"a\": 58.90010987579317, \"b\": 98.7428026642495, \"c\": 83.96567123881995}, {\"a\": 34.18064690571055, \"b\": 54.8154734503249, \"c\": 24.98349463152374}, {\"a\": 77.19097470619157, \"b\": 81.00751632127813, \"c\": 36.95042284298531}, {\"a\": 11.155995649153605, \"b\": 4.4630996033403925, \"c\": 65.86598243688222}, {\"a\": 92.29562919856723, \"b\": 27.38512039830653, \"c\": 55.28606560501612}, {\"a\": 88.66471820040573, \"b\": 32.559913952503294, \"c\": 33.92566379115988}, {\"a\": 37.24565227938502, \"b\": 32.36431021938848, \"c\": 60.28471377591445}, {\"a\": 71.36589115400253, \"b\": 70.59260402373069, \"c\": 22.397041654173865}, {\"a\": 11.55567314110979, \"b\": 74.59110747140828, \"c\": 97.13879007408065}, {\"a\": 46.641515195306816, \"b\": 52.87243839617977, \"c\": 34.05765770420393}, {\"a\": 97.86908557676965, \"b\": 70.22829540996102, \"c\": 96.41004940489614}, {\"a\": 67.5110214788113, \"b\": 99.38915792002942, \"c\": 15.388774040809727}, {\"a\": 84.6261551412361, \"b\": 43.04846198612342, \"c\": 43.924857532270835}]}}, {\"mode\": \"vega-lite\"});\n",
       "</script>"
      ],
      "text/plain": [
       "alt.Chart(...)"
      ]
     },
     "execution_count": 30,
     "metadata": {},
     "output_type": "execute_result"
    }
   ],
   "source": [
    "import altair as alt\n",
    "alt.Chart(data=df).mark_point().encode(\n",
    "    x='a',\n",
    "    y='b',\n",
    "    color='c',\n",
    "    size='c'\n",
    ")"
   ]
  },
  {
   "cell_type": "markdown",
   "metadata": {},
   "source": [
    "## The IPywidget ecosystem\n",
    "\n",
    "You may also run code for Jupyter Widget in your document, and the interactive HTML\n",
    "outputs will embed themselves in your side.\n",
    "\n",
    "Here is an example from ipyvolume:"
   ]
  },
  {
   "cell_type": "code",
   "execution_count": 31,
   "metadata": {},
   "outputs": [
    {
     "data": {
      "application/vnd.jupyter.widget-view+json": {
       "model_id": "e0f81f6069584a06b9c3d4c571bf020c",
       "version_major": 2,
       "version_minor": 0
      },
      "text/plain": [
       "IntSlider(value=7, continuous_update=False, description='Test:', max=10)"
      ]
     },
     "metadata": {},
     "output_type": "display_data"
    }
   ],
   "source": [
    "import ipywidgets as widgets\n",
    "widgets.IntSlider(\n",
    "    value=7,\n",
    "    min=0,\n",
    "    max=10,\n",
    "    step=1,\n",
    "    description='Test:',\n",
    "    disabled=False,\n",
    "    continuous_update=False,\n",
    "    orientation='horizontal',\n",
    "    readout=True,\n",
    "    readout_format='d'\n",
    ")\n",
    "\n",
    "\n"
   ]
  },
  {
   "cell_type": "code",
   "execution_count": 32,
   "metadata": {},
   "outputs": [
    {
     "data": {
      "application/vnd.jupyter.widget-view+json": {
       "model_id": "3027f4e5306743aea0313de7726e46e6",
       "version_major": 2,
       "version_minor": 0
      },
      "text/plain": [
       "Tab(children=(Text(value='', description='P0'), Text(value='', description='P1'), Text(value='', description='…"
      ]
     },
     "metadata": {},
     "output_type": "display_data"
    }
   ],
   "source": [
    "tab_contents = ['P0', 'P1', 'P2', 'P3', 'P4']\n",
    "children = [widgets.Text(description=name) for name in tab_contents]\n",
    "tab = widgets.Tab()\n",
    "tab.children = children\n",
    "tab.titles = [str(i) for i in range(len(children))]\n",
    "tab\n"
   ]
  },
  {
   "cell_type": "code",
   "execution_count": null,
   "metadata": {},
   "outputs": [],
   "source": []
  }
 ],
 "metadata": {
  "kernelspec": {
   "display_name": "Python 3",
   "language": "python",
   "name": "python3"
  },
  "language_info": {
   "codemirror_mode": {
    "name": "ipython",
    "version": 3
   },
   "file_extension": ".py",
   "mimetype": "text/x-python",
   "name": "python",
   "nbconvert_exporter": "python",
   "pygments_lexer": "ipython3",
   "version": "3.7.3"
  },
  "widgets": {
   "application/vnd.jupyter.widget-state+json": {
    "state": {
     "0355ebe1b0ce43f1bdd96fbfacaa1119": {
      "model_module": "@jupyter-widgets/controls",
      "model_module_version": "1.5.0",
      "model_name": "DescriptionStyleModel",
      "state": {
       "description_width": ""
      }
     },
     "046ca1e21ca04b18adcb10b1126b6245": {
      "model_module": "@jupyter-widgets/controls",
      "model_module_version": "1.5.0",
      "model_name": "SliderStyleModel",
      "state": {
       "description_width": ""
      }
     },
     "0bfff1b87c7c4cc2ba70f80755e26239": {
      "model_module": "@jupyter-widgets/base",
      "model_module_version": "1.2.0",
      "model_name": "LayoutModel",
      "state": {}
     },
     "0c51b54081ce411584b2767f319b5a75": {
      "model_module": "@jupyter-widgets/base",
      "model_module_version": "1.2.0",
      "model_name": "LayoutModel",
      "state": {}
     },
     "21ed2fcf9a4143a7a349d35d9b7f509e": {
      "model_module": "@jupyter-widgets/base",
      "model_module_version": "1.2.0",
      "model_name": "LayoutModel",
      "state": {}
     },
     "2ce7fd45993e48b48fe1b7db3ab75474": {
      "model_module": "@jupyter-widgets/base",
      "model_module_version": "1.2.0",
      "model_name": "LayoutModel",
      "state": {}
     },
     "3027f4e5306743aea0313de7726e46e6": {
      "model_module": "@jupyter-widgets/controls",
      "model_module_version": "1.5.0",
      "model_name": "TabModel",
      "state": {
       "children": [
        "IPY_MODEL_9ace616b5f0842b4a3b4a1632f30ec57",
        "IPY_MODEL_b1ac391f609840be9fd6201dafdf649c",
        "IPY_MODEL_7ed022745ec443d184ba20b00ba51150",
        "IPY_MODEL_8d69b40a32d147f191e9476a45c320b1",
        "IPY_MODEL_a93edbfd57584d1a8e6747afdd2f4bd7"
       ],
       "layout": "IPY_MODEL_2ce7fd45993e48b48fe1b7db3ab75474"
      }
     },
     "58b3b9d3e4f04240b72aee3b7da215f4": {
      "model_module": "@jupyter-widgets/base",
      "model_module_version": "1.2.0",
      "model_name": "LayoutModel",
      "state": {}
     },
     "73a1eb7dff784f17ad7c162761a098d2": {
      "model_module": "@jupyter-widgets/controls",
      "model_module_version": "1.5.0",
      "model_name": "DescriptionStyleModel",
      "state": {
       "description_width": ""
      }
     },
     "776a2e97380e41edb42270cbededb815": {
      "model_module": "@jupyter-widgets/controls",
      "model_module_version": "1.5.0",
      "model_name": "DescriptionStyleModel",
      "state": {
       "description_width": ""
      }
     },
     "7ed022745ec443d184ba20b00ba51150": {
      "model_module": "@jupyter-widgets/controls",
      "model_module_version": "1.5.0",
      "model_name": "TextModel",
      "state": {
       "description": "P2",
       "layout": "IPY_MODEL_dcc03e1030fa46639ac572ee7e985791",
       "style": "IPY_MODEL_d909093d745a4d4b9d9aa0ac12f96d7d"
      }
     },
     "8cefd6f67ee348968d0b704bab52f63f": {
      "model_module": "@jupyter-widgets/base",
      "model_module_version": "1.2.0",
      "model_name": "LayoutModel",
      "state": {}
     },
     "8d69b40a32d147f191e9476a45c320b1": {
      "model_module": "@jupyter-widgets/controls",
      "model_module_version": "1.5.0",
      "model_name": "TextModel",
      "state": {
       "description": "P3",
       "layout": "IPY_MODEL_8cefd6f67ee348968d0b704bab52f63f",
       "style": "IPY_MODEL_73a1eb7dff784f17ad7c162761a098d2"
      }
     },
     "9ace616b5f0842b4a3b4a1632f30ec57": {
      "model_module": "@jupyter-widgets/controls",
      "model_module_version": "1.5.0",
      "model_name": "TextModel",
      "state": {
       "description": "P0",
       "layout": "IPY_MODEL_58b3b9d3e4f04240b72aee3b7da215f4",
       "style": "IPY_MODEL_0355ebe1b0ce43f1bdd96fbfacaa1119"
      }
     },
     "a93edbfd57584d1a8e6747afdd2f4bd7": {
      "model_module": "@jupyter-widgets/controls",
      "model_module_version": "1.5.0",
      "model_name": "TextModel",
      "state": {
       "description": "P4",
       "layout": "IPY_MODEL_0c51b54081ce411584b2767f319b5a75",
       "style": "IPY_MODEL_776a2e97380e41edb42270cbededb815"
      }
     },
     "b1ac391f609840be9fd6201dafdf649c": {
      "model_module": "@jupyter-widgets/controls",
      "model_module_version": "1.5.0",
      "model_name": "TextModel",
      "state": {
       "description": "P1",
       "layout": "IPY_MODEL_21ed2fcf9a4143a7a349d35d9b7f509e",
       "style": "IPY_MODEL_fa62148e75f94f60a9bb07139e1ceadb"
      }
     },
     "d909093d745a4d4b9d9aa0ac12f96d7d": {
      "model_module": "@jupyter-widgets/controls",
      "model_module_version": "1.5.0",
      "model_name": "DescriptionStyleModel",
      "state": {
       "description_width": ""
      }
     },
     "dcc03e1030fa46639ac572ee7e985791": {
      "model_module": "@jupyter-widgets/base",
      "model_module_version": "1.2.0",
      "model_name": "LayoutModel",
      "state": {}
     },
     "e0f81f6069584a06b9c3d4c571bf020c": {
      "model_module": "@jupyter-widgets/controls",
      "model_module_version": "1.5.0",
      "model_name": "IntSliderModel",
      "state": {
       "continuous_update": false,
       "description": "Test:",
       "layout": "IPY_MODEL_0bfff1b87c7c4cc2ba70f80755e26239",
       "max": 10,
       "style": "IPY_MODEL_046ca1e21ca04b18adcb10b1126b6245",
       "value": 7
      }
     },
     "fa62148e75f94f60a9bb07139e1ceadb": {
      "model_module": "@jupyter-widgets/controls",
      "model_module_version": "1.5.0",
      "model_name": "DescriptionStyleModel",
      "state": {
       "description_width": ""
      }
     }
    },
    "version_major": 2,
    "version_minor": 0
   }
  }
 },
 "nbformat": 4,
 "nbformat_minor": 4
}
