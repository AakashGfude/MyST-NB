{
 "cells": [
  {
   "cell_type": "markdown",
   "metadata": {},
   "source": [
    "# An example Jupyter Notebook\n",
    "\n",
    "This notebook is a demonstration of directly-parsing Jupyter Notebooks into\n",
    "Sphinx using the MyST parser.\n",
    "\n",
    "```{warning}\n",
    "This is currently an **alpha feature** that may behave in unexpected ways,\n",
    "or change in the near future.\n",
    "```\n",
    "\n",
    "## Markdown\n",
    "\n",
    "As you can see, markdown is parsed as expected. Embedding images should work as expected.\n",
    "For example, here's the MyST-nb logo:\n",
    "\n",
    "![](_static/logo.png)\n",
    "\n",
    "because MyST-NB is using the MyST-markdown parser, you can include rich markdown with Sphinx\n",
    "in your notebook. For example, here's a note block:\n",
    "\n",
    "`````{note}\n",
    "Wow, a note! It was generated with this code:\n",
    "\n",
    "````\n",
    "```{note}\n",
    "Wow, a note!\n",
    "```\n",
    "````\n",
    "`````\n",
    "\n",
    "## Code cells and outputs\n",
    "\n",
    "You can run cells, and the cell outputs will be captured and inserted into\n",
    "the resulting Sphinx site.\n",
    "\n",
    "### `__repr__` and HTML outputs\n",
    "\n",
    "For example, here's some simple Python:"
   ]
  },
  {
   "cell_type": "code",
   "execution_count": 1,
   "metadata": {},
   "outputs": [
    {
     "data": {
      "text/plain": [
       "array([[22.38055429, 67.90977475, 51.55788272, 71.23940778, 78.64109913,\n",
       "        55.53921004, 28.6953091 ,  3.95167135, 76.64497373, 87.27949133],\n",
       "       [11.49399342,  0.83062084, 39.02719245, 46.01895124, 72.81924055,\n",
       "        76.68761264, 53.18166162, 14.16905566, 86.62823197, 11.2492978 ],\n",
       "       [53.39208456, 45.24277182, 72.51188618, 24.71627841, 82.41515846,\n",
       "        14.68002949, 10.25920381, 41.14675   , 83.80911362, 79.83465415]])"
      ]
     },
     "execution_count": 1,
     "metadata": {},
     "output_type": "execute_result"
    }
   ],
   "source": [
    "import numpy as np\n",
    "data = np.random.rand(3, 100) * 100\n",
    "data[:, :10]"
   ]
  },
  {
   "cell_type": "markdown",
   "metadata": {},
   "source": [
    "This will also work with HTML outputs"
   ]
  },
  {
   "cell_type": "code",
   "execution_count": 2,
   "metadata": {},
   "outputs": [
    {
     "data": {
      "text/html": [
       "<div>\n",
       "<style scoped>\n",
       "    .dataframe tbody tr th:only-of-type {\n",
       "        vertical-align: middle;\n",
       "    }\n",
       "\n",
       "    .dataframe tbody tr th {\n",
       "        vertical-align: top;\n",
       "    }\n",
       "\n",
       "    .dataframe thead th {\n",
       "        text-align: right;\n",
       "    }\n",
       "</style>\n",
       "<table border=\"1\" class=\"dataframe\">\n",
       "  <thead>\n",
       "    <tr style=\"text-align: right;\">\n",
       "      <th></th>\n",
       "      <th>a</th>\n",
       "      <th>b</th>\n",
       "      <th>c</th>\n",
       "    </tr>\n",
       "  </thead>\n",
       "  <tbody>\n",
       "    <tr>\n",
       "      <th>0</th>\n",
       "      <td>22.380554</td>\n",
       "      <td>11.493993</td>\n",
       "      <td>53.392085</td>\n",
       "    </tr>\n",
       "    <tr>\n",
       "      <th>1</th>\n",
       "      <td>67.909775</td>\n",
       "      <td>0.830621</td>\n",
       "      <td>45.242772</td>\n",
       "    </tr>\n",
       "    <tr>\n",
       "      <th>2</th>\n",
       "      <td>51.557883</td>\n",
       "      <td>39.027192</td>\n",
       "      <td>72.511886</td>\n",
       "    </tr>\n",
       "    <tr>\n",
       "      <th>3</th>\n",
       "      <td>71.239408</td>\n",
       "      <td>46.018951</td>\n",
       "      <td>24.716278</td>\n",
       "    </tr>\n",
       "    <tr>\n",
       "      <th>4</th>\n",
       "      <td>78.641099</td>\n",
       "      <td>72.819241</td>\n",
       "      <td>82.415158</td>\n",
       "    </tr>\n",
       "  </tbody>\n",
       "</table>\n",
       "</div>"
      ],
      "text/plain": [
       "           a          b          c\n",
       "0  22.380554  11.493993  53.392085\n",
       "1  67.909775   0.830621  45.242772\n",
       "2  51.557883  39.027192  72.511886\n",
       "3  71.239408  46.018951  24.716278\n",
       "4  78.641099  72.819241  82.415158"
      ]
     },
     "execution_count": 2,
     "metadata": {},
     "output_type": "execute_result"
    }
   ],
   "source": [
    "import pandas as pd\n",
    "df = pd.DataFrame(data.T, columns=['a', 'b', 'c'])\n",
    "df.head()"
   ]
  },
  {
   "cell_type": "markdown",
   "metadata": {},
   "source": [
    "### Images\n",
    "\n",
    "Images that are generated from your code (e.g., with Matplotlib) will also\n",
    "be embedded."
   ]
  },
  {
   "cell_type": "code",
   "execution_count": 3,
   "metadata": {},
   "outputs": [
    {
     "data": {
      "text/plain": [
       "<matplotlib.collections.PathCollection at 0x7f36fc8db7f0>"
      ]
     },
     "execution_count": 3,
     "metadata": {},
     "output_type": "execute_result"
    },
    {
     "data": {
      "image/png": "[encoded data removed]",
      "text/plain": [
       "<Figure size 432x288 with 1 Axes>"
      ]
     },
     "metadata": {
      "needs_background": "light"
     },
     "output_type": "display_data"
    }
   ],
   "source": [
    "import matplotlib.pyplot as plt\n",
    "fig, ax = plt.subplots()\n",
    "ax.scatter(*data, c=data[2])"
   ]
  },
  {
   "cell_type": "markdown",
   "metadata": {},
   "source": [
    "### Interactive outputs\n",
    "\n",
    "Interactive outputs will work under the assumption that the outputs they produce have\n",
    "self-contained HTML that works without requiring any external dependencies to load.\n",
    "For example, the `Altair` \"html\" output works well:"
   ]
  },
  {
   "cell_type": "code",
   "execution_count": 4,
   "metadata": {},
   "outputs": [
    {
     "data": {
      "text/html": [
       "\n",
       "<div id=\"altair-viz-17f6d937ed664568be8da891403be232\"></div>\n",
       "<script type=\"text/javascript\">\n",
       "  (function(spec, embedOpt){\n",
       "    const outputDiv = document.getElementById(\"altair-viz-17f6d937ed664568be8da891403be232\");\n",
       "    const paths = {\n",
       "      \"vega\": \"https://cdn.jsdelivr.net/npm//vega@5?noext\",\n",
       "      \"vega-lib\": \"https://cdn.jsdelivr.net/npm//vega-lib?noext\",\n",
       "      \"vega-lite\": \"https://cdn.jsdelivr.net/npm//vega-lite@4.0.2?noext\",\n",
       "      \"vega-embed\": \"https://cdn.jsdelivr.net/npm//vega-embed@6?noext\",\n",
       "    };\n",
       "\n",
       "    function loadScript(lib) {\n",
       "      return new Promise(function(resolve, reject) {\n",
       "        var s = document.createElement('script');\n",
       "        s.src = paths[lib];\n",
       "        s.async = true;\n",
       "        s.onload = () => resolve(paths[lib]);\n",
       "        s.onerror = () => reject(`Error loading script: ${paths[lib]}`);\n",
       "        document.getElementsByTagName(\"head\")[0].appendChild(s);\n",
       "      });\n",
       "    }\n",
       "\n",
       "    function showError(err) {\n",
       "      outputDiv.innerHTML = `<div class=\"error\" style=\"color:red;\">${err}</div>`;\n",
       "      throw err;\n",
       "    }\n",
       "\n",
       "    function displayChart(vegaEmbed) {\n",
       "      vegaEmbed(outputDiv, spec, embedOpt)\n",
       "        .catch(err => showError(`Javascript Error: ${err.message}<br>This usually means there's a typo in your chart specification. See the javascript console for the full traceback.`));\n",
       "    }\n",
       "\n",
       "    if(typeof define === \"function\" && define.amd) {\n",
       "      requirejs.config({paths});\n",
       "      require([\"vega-embed\"], displayChart, err => showError(`Error loading script: ${err.message}`));\n",
       "    } else if (typeof vegaEmbed === \"function\") {\n",
       "      displayChart(vegaEmbed);\n",
       "    } else {\n",
       "      loadScript(\"vega\")\n",
       "        .then(() => loadScript(\"vega-lite\"))\n",
       "        .then(() => loadScript(\"vega-embed\"))\n",
       "        .catch(showError)\n",
       "        .then(() => displayChart(vegaEmbed));\n",
       "    }\n",
       "  })({\"config\": {\"view\": {\"continuousWidth\": 400, \"continuousHeight\": 300}}, \"data\": {\"name\": \"data-9b0b91947d610c6e3043f502adee7b25\"}, \"mark\": \"point\", \"encoding\": {\"color\": {\"type\": \"quantitative\", \"field\": \"c\"}, \"size\": {\"type\": \"quantitative\", \"field\": \"c\"}, \"x\": {\"type\": \"quantitative\", \"field\": \"a\"}, \"y\": {\"type\": \"quantitative\", \"field\": \"b\"}}, \"$schema\": \"https://vega.github.io/schema/vega-lite/v4.0.2.json\", \"datasets\": {\"data-9b0b91947d610c6e3043f502adee7b25\": [{\"a\": 22.380554291924415, \"b\": 11.493993416191127, \"c\": 53.39208456062449}, {\"a\": 67.9097747539927, \"b\": 0.8306208425015615, \"c\": 45.24277182048105}, {\"a\": 51.557882716879355, \"b\": 39.02719245165748, \"c\": 72.51188618170649}, {\"a\": 71.2394077758692, \"b\": 46.018951244408, \"c\": 24.716278411933047}, {\"a\": 78.64109913001631, \"b\": 72.8192405484549, \"c\": 82.41515846292316}, {\"a\": 55.53921003576795, \"b\": 76.68761263582523, \"c\": 14.680029486077162}, {\"a\": 28.695309100699873, \"b\": 53.181661623893326, \"c\": 10.259203811533224}, {\"a\": 3.951671347890684, \"b\": 14.169055658904938, \"c\": 41.1467500034783}, {\"a\": 76.6449737277706, \"b\": 86.62823197035621, \"c\": 83.80911362095618}, {\"a\": 87.27949132871012, \"b\": 11.249297802782044, \"c\": 79.83465414854791}, {\"a\": 29.092210427773345, \"b\": 14.526258295730422, \"c\": 55.60355276847956}, {\"a\": 22.983375634940984, \"b\": 24.08828274143836, \"c\": 0.4214133775857998}, {\"a\": 45.12919833223761, \"b\": 15.696011249440344, \"c\": 90.05820715470955}, {\"a\": 3.2162419668418374, \"b\": 78.2387909525776, \"c\": 62.52448142150978}, {\"a\": 0.5663201013976549, \"b\": 28.985737908805852, \"c\": 3.8049698399561738}, {\"a\": 17.497484061059353, \"b\": 79.11864279114911, \"c\": 4.110424006005453}, {\"a\": 74.55489080684134, \"b\": 81.16019268255778, \"c\": 34.75359664410711}, {\"a\": 80.10719344503158, \"b\": 16.602063339223328, \"c\": 20.77758931376278}, {\"a\": 67.07008182212192, \"b\": 86.98356489576537, \"c\": 44.45176547876564}, {\"a\": 11.66207903424904, \"b\": 11.572113730314392, \"c\": 98.21790454840264}, {\"a\": 29.50795904254926, \"b\": 99.27170679942344, \"c\": 78.52567795564151}, {\"a\": 5.409427049802817, \"b\": 4.758410831100324, \"c\": 1.4622326115791617}, {\"a\": 49.71216726998243, \"b\": 51.49672248625227, \"c\": 49.73194514014294}, {\"a\": 89.4982935994314, \"b\": 70.8724916051386, \"c\": 74.95968786770855}, {\"a\": 70.6199083793484, \"b\": 13.401167020086824, \"c\": 46.424408009173504}, {\"a\": 67.61896654080746, \"b\": 87.15250306490951, \"c\": 27.033082663565878}, {\"a\": 64.6123423825838, \"b\": 54.466437431483286, \"c\": 78.32289086683907}, {\"a\": 43.40075065783917, \"b\": 70.63931620275899, \"c\": 31.857745914251336}, {\"a\": 21.30961622588933, \"b\": 89.00175265555752, \"c\": 42.88021019986966}, {\"a\": 53.97401231771952, \"b\": 8.455217250022029, \"c\": 46.32090520031036}, {\"a\": 55.35165662333906, \"b\": 42.59519547359707, \"c\": 31.39397105518631}, {\"a\": 45.856976817871185, \"b\": 33.589619431189156, \"c\": 35.404555518358315}, {\"a\": 98.27537400129896, \"b\": 66.8966703989441, \"c\": 78.98840158176257}, {\"a\": 26.71107427435746, \"b\": 18.7083525643457, \"c\": 83.90820327261022}, {\"a\": 12.842954232721748, \"b\": 96.17334743549611, \"c\": 85.18870398356103}, {\"a\": 27.279242281012916, \"b\": 85.36964147951119, \"c\": 95.43133695657221}, {\"a\": 16.790650249211257, \"b\": 58.01570829193271, \"c\": 71.65640355171708}, {\"a\": 7.78557163688085, \"b\": 62.22706067546165, \"c\": 8.170909340281563}, {\"a\": 84.60279881645464, \"b\": 25.284478515171692, \"c\": 72.75418807116645}, {\"a\": 47.60126488628712, \"b\": 17.59513807667724, \"c\": 65.73863803144955}, {\"a\": 31.22462109152363, \"b\": 72.5250547337869, \"c\": 39.74903353661276}, {\"a\": 13.830224398678482, \"b\": 63.36543783570193, \"c\": 77.04975604226415}, {\"a\": 68.48990051711561, \"b\": 7.36227933021496, \"c\": 21.183945475275546}, {\"a\": 51.08617523759008, \"b\": 65.70329307323442, \"c\": 86.3387465110115}, {\"a\": 90.49290673652932, \"b\": 46.628217332000524, \"c\": 93.74209025391946}, {\"a\": 92.1236682680949, \"b\": 19.250446386813103, \"c\": 79.52497960749453}, {\"a\": 38.418161490349625, \"b\": 46.633219214980755, \"c\": 30.11323895564789}, {\"a\": 92.20413069646338, \"b\": 19.42199872729319, \"c\": 52.47157409553006}, {\"a\": 60.42614506678068, \"b\": 3.9589773603593392, \"c\": 71.28718929519444}, {\"a\": 76.17941769921475, \"b\": 95.90085697562547, \"c\": 62.04368796572703}, {\"a\": 8.949850855256948, \"b\": 75.59716177841288, \"c\": 11.295716258382138}, {\"a\": 77.64058098670222, \"b\": 42.967913281523195, \"c\": 73.77107943289721}, {\"a\": 12.075264288201726, \"b\": 57.58923470180183, \"c\": 58.58545276471732}, {\"a\": 73.93744114996439, \"b\": 81.76772696110174, \"c\": 80.50061440844624}, {\"a\": 57.38901200698236, \"b\": 47.4072019338018, \"c\": 48.58395215597139}, {\"a\": 12.946483105331087, \"b\": 54.58897011093756, \"c\": 78.43534625332224}, {\"a\": 95.28486134443179, \"b\": 95.66813961435554, \"c\": 76.49573950930508}, {\"a\": 95.64766143337951, \"b\": 23.81244287615678, \"c\": 81.1546560674773}, {\"a\": 52.66198993047958, \"b\": 18.743898477498544, \"c\": 73.80702183023661}, {\"a\": 19.338608141981485, \"b\": 94.76922145801554, \"c\": 18.45282297237272}, {\"a\": 30.927985560993864, \"b\": 56.388143598416654, \"c\": 9.672815460955198}, {\"a\": 44.70297708404095, \"b\": 32.27031405198591, \"c\": 89.14818373862545}, {\"a\": 7.593256059524678, \"b\": 16.216282982936537, \"c\": 50.97058713010581}, {\"a\": 83.27381522523933, \"b\": 61.801937964567486, \"c\": 60.409322857576505}, {\"a\": 61.25032524931927, \"b\": 98.9441282926128, \"c\": 30.24220441088007}, {\"a\": 80.68858401835001, \"b\": 51.96114390572901, \"c\": 84.62679192024166}, {\"a\": 81.98952940554672, \"b\": 96.43050867539517, \"c\": 21.916280350056727}, {\"a\": 64.73916207889746, \"b\": 55.737192077882526, \"c\": 79.8027800965612}, {\"a\": 20.145048756082996, \"b\": 6.263061833883421, \"c\": 53.006370957995266}, {\"a\": 82.96990117920679, \"b\": 19.010761471688365, \"c\": 35.96547208711088}, {\"a\": 1.9576220006645162, \"b\": 52.95147538785662, \"c\": 91.41853312090525}, {\"a\": 33.808134342019756, \"b\": 64.69447919396997, \"c\": 11.727604964758298}, {\"a\": 52.788405339402544, \"b\": 60.46035087545285, \"c\": 29.46709268157024}, {\"a\": 75.42315457628777, \"b\": 12.180489808666373, \"c\": 57.96686817791124}, {\"a\": 54.386050520040584, \"b\": 27.484131311430062, \"c\": 85.86845386054421}, {\"a\": 47.07855966417035, \"b\": 34.906013284631555, \"c\": 10.678490786427586}, {\"a\": 67.23719328942893, \"b\": 88.14382826637951, \"c\": 60.36143880616935}, {\"a\": 92.79228489282337, \"b\": 3.527557351218491, \"c\": 82.98264138741504}, {\"a\": 81.44886952089324, \"b\": 38.73479548363898, \"c\": 24.97843729475726}, {\"a\": 46.242370725808215, \"b\": 58.08687604332595, \"c\": 55.687352181115536}, {\"a\": 24.8531127074298, \"b\": 74.69267989349906, \"c\": 1.717668276224582}, {\"a\": 14.53509421509005, \"b\": 97.15860544602441, \"c\": 50.931087765420855}, {\"a\": 40.54875069109025, \"b\": 61.148876308481846, \"c\": 37.88217627820703}, {\"a\": 61.17391798005145, \"b\": 92.21463513291039, \"c\": 75.62860454864992}, {\"a\": 79.1331864495329, \"b\": 9.539822522653674, \"c\": 75.92334319562438}, {\"a\": 38.03061031366299, \"b\": 64.50428779593508, \"c\": 44.74628866618582}, {\"a\": 12.582670639451067, \"b\": 83.50650723393807, \"c\": 18.30378446288411}, {\"a\": 71.37331836982638, \"b\": 75.85552013204719, \"c\": 75.93732238409058}, {\"a\": 98.69930911454995, \"b\": 83.16775238460617, \"c\": 94.85733735590205}, {\"a\": 57.47090355956834, \"b\": 93.35071366614653, \"c\": 17.669467827409758}, {\"a\": 76.64202608496458, \"b\": 3.239365576057418, \"c\": 5.494507363442769}, {\"a\": 43.90265239846202, \"b\": 11.866790819953133, \"c\": 31.955683615216067}, {\"a\": 97.66228519400332, \"b\": 67.23290738994659, \"c\": 93.57440998982021}, {\"a\": 55.835153740917875, \"b\": 81.2549522675315, \"c\": 79.31632116848917}, {\"a\": 95.86026296957577, \"b\": 33.67593588164186, \"c\": 50.10036382417839}, {\"a\": 58.181051601791886, \"b\": 81.85858550285688, \"c\": 84.65654319796005}, {\"a\": 91.8522303515214, \"b\": 73.64696606428757, \"c\": 71.99944555658058}, {\"a\": 69.06523839644237, \"b\": 78.54891245973381, \"c\": 93.59740196336227}, {\"a\": 87.3784766485839, \"b\": 55.81815697833464, \"c\": 83.69060483337132}, {\"a\": 98.95734800695631, \"b\": 65.57981934520423, \"c\": 80.99344764861017}]}}, {\"mode\": \"vega-lite\"});\n",
       "</script>"
      ],
      "text/plain": [
       "alt.Chart(...)"
      ]
     },
     "execution_count": 4,
     "metadata": {},
     "output_type": "execute_result"
    }
   ],
   "source": [
    "import altair as alt\n",
    "alt.Chart(data=df).mark_point().encode(\n",
    "    x='a',\n",
    "    y='b',\n",
    "    color='c',\n",
    "    size='c'\n",
    ")"
   ]
  },
  {
   "cell_type": "markdown",
   "metadata": {},
   "source": [
    "### The IPywidget ecosystem\n",
    "\n",
    "You may also run code for Jupyter Widget in your document, and the interactive HTML\n",
    "outputs will embed themselves in your side.\n",
    "\n",
    "Here is an example from ipyvolume:"
   ]
  },
  {
   "cell_type": "code",
   "execution_count": 5,
   "metadata": {},
   "outputs": [
    {
     "data": {
      "application/vnd.jupyter.widget-view+json": {
       "model_id": "8d503b0d081a4333afbe4de62e406b87",
       "version_major": 2,
       "version_minor": 0
      },
      "text/plain": [
       "IntSlider(value=7, continuous_update=False, description='Test:', max=10)"
      ]
     },
     "metadata": {},
     "output_type": "display_data"
    }
   ],
   "source": [
    "import ipywidgets as widgets\n",
    "widgets.IntSlider(\n",
    "    value=7,\n",
    "    min=0,\n",
    "    max=10,\n",
    "    step=1,\n",
    "    description='Test:',\n",
    "    disabled=False,\n",
    "    continuous_update=False,\n",
    "    orientation='horizontal',\n",
    "    readout=True,\n",
    "    readout_format='d'\n",
    ")\n",
    "\n",
    "\n"
   ]
  },
  {
   "cell_type": "code",
   "execution_count": 6,
   "metadata": {},
   "outputs": [
    {
     "data": {
      "application/vnd.jupyter.widget-view+json": {
       "model_id": "e9c0d93619fa47baa875498985ea9c43",
       "version_major": 2,
       "version_minor": 0
      },
      "text/plain": [
       "Tab(children=(Text(value='', description='P0'), Text(value='', description='P1'), Text(value='', description='…"
      ]
     },
     "metadata": {},
     "output_type": "display_data"
    }
   ],
   "source": [
    "tab_contents = ['P0', 'P1', 'P2', 'P3', 'P4']\n",
    "children = [widgets.Text(description=name) for name in tab_contents]\n",
    "tab = widgets.Tab()\n",
    "tab.children = children\n",
    "tab.titles = [str(i) for i in range(len(children))]\n",
    "tab\n"
   ]
  },
  {
   "cell_type": "markdown",
   "metadata": {},
   "source": [
    "## Hiding cell contents\n",
    "\n",
    "You can use Jupyter Notebook **cell tags** to control some of the behavior of\n",
    "the rendered notebook. This uses the [**`sphinx-togglebutton`**](https://sphinx-togglebutton.readthedocs.io/en/latest/)\n",
    "package to add a little button that toggles the visibility of content.\n",
    "\n",
    "### Hiding code cells\n",
    "\n",
    "You can **cell tags** to control the content hidden with code cells.\n",
    "Add the following tags to a cell's metadata to control\n",
    "what to hide in code cells:\n",
    "\n",
    "* **`hide_input`** tag to hide the cell inputs\n",
    "* **`hide_output`** to hide the cell outputs\n",
    "* **`hide_cell`** to hide the entire cell\n",
    "\n",
    "### Hiding markdown cells\n",
    "\n",
    "There are two ways to hide markdown cells. First, **you can add the `hide_input`**\n",
    "cell metadata. This triggers the same hiding behavior described above for\n",
    "code cells."
   ]
  },
  {
   "cell_type": "markdown",
   "metadata": {
    "tags": [
     "hide_input"
    ]
   },
   "source": [
    "This cell was hidden by adding a `hide_input` tag to it!"
   ]
  },
  {
   "cell_type": "markdown",
   "metadata": {},
   "source": [
    "You may also **use a Sphinx directive** to hide specific markdown content. This\n",
    "is possible by adding the **`.toggle`** class to any block-level directive\n",
    "that will allow for classes. For example, to the `container`, `note`, or `admonition`\n",
    "directives.\n",
    "\n",
    "For example:\n",
    "\n",
    "`````{admonition} This cell was hidden with the toggle class\n",
    ":class: toggle\n",
    "\n",
    "It uses the following code:\n",
    "\n",
    "````\n",
    "```{admonition} This cell was hidden with the toggle class\n",
    ":class: toggle\n",
    "It uses the following code:\n",
    "<block-content-here>\n",
    "```\n",
    "````\n",
    "`````\n",
    "\n",
    "```{warning}\n",
    "**Don't add headings to toggle-able sections**\n",
    "\n",
    "Note that containers for markdown (like notes, or this `container`\n",
    "directive) cannot have their own headings. Use **bolded text** if\n",
    "you want to highlight sections of a toggle-able section.\n",
    "```"
   ]
  },
  {
   "cell_type": "code",
   "execution_count": null,
   "metadata": {},
   "outputs": [],
   "source": []
  }
 ],
 "metadata": {
  "kernelspec": {
   "display_name": "Python 3",
   "language": "python",
   "name": "python3"
  },
  "language_info": {
   "codemirror_mode": {
    "name": "ipython",
    "version": 3
   },
   "file_extension": ".py",
   "mimetype": "text/x-python",
   "name": "python",
   "nbconvert_exporter": "python",
   "pygments_lexer": "ipython3",
   "version": "3.7.3"
  },
  "widgets": {
   "application/vnd.jupyter.widget-state+json": {
    "state": {},
    "version_major": 2,
    "version_minor": 0
   }
  }
 },
 "nbformat": 4,
 "nbformat_minor": 4
}
